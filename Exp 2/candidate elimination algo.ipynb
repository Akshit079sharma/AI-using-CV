{
 "cells": [
  {
   "cell_type": "markdown",
   "id": "794dc60f-ade4-40ff-a6b6-507538c79629",
   "metadata": {},
   "source": [
    "* implement and demonstarte candidate elimination alogroihm to find out set of all hypothesis consistent wiht the training exampple *"
   ]
  },
  {
   "cell_type": "code",
   "execution_count": 5,
   "id": "a18af787-7217-46f9-ba5e-d472d9cf80d2",
   "metadata": {},
   "outputs": [],
   "source": [
    "import numpy as np\n",
    "import pandas as pd\n",
    "\n"
   ]
  },
  {
   "cell_type": "code",
   "execution_count": 6,
   "id": "99baef58-c84e-492d-a5c5-de09de02354b",
   "metadata": {},
   "outputs": [
    {
     "name": "stdout",
     "output_type": "stream",
     "text": [
      "   Sunny  Warm Normal  Strong Warm.1    Same  Yes\n",
      "0  Sunny  Warm   High  Strong   Warm    Same  Yes\n",
      "1  Rainy  Cold   High  Strong   Warm  Change   No\n",
      "2  Sunny  Warm   High  Strong   Cool  Change  Yes\n"
     ]
    }
   ],
   "source": [
    "#loading data from csv file\n",
    "data=pd.DataFrame(data=pd.read_csv('ws.csv'))\n",
    "print(data)"
   ]
  },
  {
   "cell_type": "code",
   "execution_count": 7,
   "id": "e95f6818-5e63-4362-9eb6-caca7bb31596",
   "metadata": {},
   "outputs": [
    {
     "name": "stdout",
     "output_type": "stream",
     "text": [
      "[['Sunny' 'Warm' 'High' 'Strong' 'Warm' 'Same']\n",
      " ['Rainy' 'Cold' 'High' 'Strong' 'Warm' 'Change']\n",
      " ['Sunny' 'Warm' 'High' 'Strong' 'Cool' 'Change']]\n"
     ]
    }
   ],
   "source": [
    "#separating concept features from the target \n",
    "concepts=np.array(data.iloc[:,0:-1])\n",
    "print(concepts)"
   ]
  },
  {
   "cell_type": "code",
   "execution_count": 8,
   "id": "bf1fcb92-4fed-4319-b5cd-cd147678b6a1",
   "metadata": {},
   "outputs": [
    {
     "name": "stdout",
     "output_type": "stream",
     "text": [
      "['Yes' 'No' 'Yes']\n"
     ]
    }
   ],
   "source": [
    "#isolating target into a separate dataframe\n",
    "#copying last column to target array\n",
    "target=np.array(data.iloc[:,-1])\n",
    "print(target)"
   ]
  },
  {
   "cell_type": "code",
   "execution_count": 9,
   "id": "5e006fdc-ef8b-420b-8123-6069a7cab861",
   "metadata": {},
   "outputs": [],
   "source": [
    "def learn(concepts, target):\n",
    "    \"\"\"\n",
    "    Implements the Candidate Elimination Algorithm.\n",
    "\n",
    "    Arguments:\n",
    "    concepts -- A list of feature sets representing training examples.\n",
    "    target -- A list of target values ('Yes' or 'No').\n",
    "\n",
    "    Returns:\n",
    "    specific_h -- The most specific hypothesis.\n",
    "    general_h -- The general hypothesis.\n",
    "    \"\"\"\n",
    "\n",
    "    # Copy first training example to initialize specific hypothesis\n",
    "    specific_h = concepts[0].copy()\n",
    "    print(\"\\nInitialization of specific_h and general_h\")\n",
    "    print(\"Specific Hypothesis:\", specific_h)\n",
    "\n",
    "    # Initialize general hypothesis with '?'\n",
    "    general_h = [[\"?\" for _ in range(len(specific_h))] for _ in range(len(specific_h))]\n",
    "    print(\"General Hypothesis:\", general_h)\n",
    "\n",
    "    # Learning iterations\n",
    "    for i, h in enumerate(concepts):\n",
    "        if target[i] == \"Yes\":\n",
    "            for x in range(len(specific_h)):\n",
    "                if h[x] != specific_h[x]:  \n",
    "                    specific_h[x] = '?'  \n",
    "                    general_h[x][x] = '?'  \n",
    "\n",
    "        elif target[i] == \"No\":\n",
    "            for x in range(len(specific_h)):\n",
    "                if h[x] == specific_h[x]:  \n",
    "                    general_h[x][x] = specific_h[x]\n",
    "                else:\n",
    "                    general_h[x][x] = '?'  \n",
    "\n",
    "        print(\"\\nSteps of Candidate Elimination Algorithm\", i + 1)\n",
    "        print(\"Specific Hypothesis:\", specific_h)\n",
    "        print(\"General Hypothesis:\", general_h)\n",
    "\n",
    "    # Remove redundant rows in general_h\n",
    "    general_h = [h for h in general_h if h != [\"?\"] * len(specific_h)]\n",
    "\n",
    "    return specific_h, general_h\n"
   ]
  },
  {
   "cell_type": "code",
   "execution_count": 4,
   "id": "287d5ba7-2233-4549-8009-57370b769dc9",
   "metadata": {},
   "outputs": [
    {
     "ename": "NameError",
     "evalue": "name 'concepts' is not defined",
     "output_type": "error",
     "traceback": [
      "\u001b[1;31m---------------------------------------------------------------------------\u001b[0m",
      "\u001b[1;31mNameError\u001b[0m                                 Traceback (most recent call last)",
      "Cell \u001b[1;32mIn[4], line 1\u001b[0m\n\u001b[1;32m----> 1\u001b[0m s_final,g_final \u001b[38;5;241m=\u001b[39m learn(\u001b[43mconcepts\u001b[49m,target)\n\u001b[0;32m      2\u001b[0m \u001b[38;5;28mprint\u001b[39m(\u001b[38;5;124m\"\u001b[39m\u001b[38;5;130;01m\\n\u001b[39;00m\u001b[38;5;124mFinal Specific_h:\u001b[39m\u001b[38;5;124m\"\u001b[39m,s_final,sep\u001b[38;5;241m=\u001b[39m\u001b[38;5;124m\"\u001b[39m\u001b[38;5;130;01m\\n\u001b[39;00m\u001b[38;5;124m\"\u001b[39m)\n\u001b[0;32m      3\u001b[0m \u001b[38;5;28mprint\u001b[39m(\u001b[38;5;124m\"\u001b[39m\u001b[38;5;130;01m\\n\u001b[39;00m\u001b[38;5;124mFinal general_h:\u001b[39m\u001b[38;5;124m\"\u001b[39m,g_final,sep\u001b[38;5;241m=\u001b[39m\u001b[38;5;124m\"\u001b[39m\u001b[38;5;130;01m\\n\u001b[39;00m\u001b[38;5;124m\"\u001b[39m)\n",
      "\u001b[1;31mNameError\u001b[0m: name 'concepts' is not defined"
     ]
    }
   ],
   "source": [
    "s_final,g_final = learn(concepts,target)\n",
    "print(\"\\nFinal Specific_h:\",s_final,sep=\"\\n\")\n",
    "print(\"\\nFinal general_h:\",g_final,sep=\"\\n\")"
   ]
  },
  {
   "cell_type": "code",
   "execution_count": null,
   "id": "98d9c3c1-e4ea-4f86-9e81-435bf2ab394f",
   "metadata": {},
   "outputs": [],
   "source": []
  }
 ],
 "metadata": {
  "kernelspec": {
   "display_name": "Python 3 (ipykernel)",
   "language": "python",
   "name": "python3"
  },
  "language_info": {
   "codemirror_mode": {
    "name": "ipython",
    "version": 3
   },
   "file_extension": ".py",
   "mimetype": "text/x-python",
   "name": "python",
   "nbconvert_exporter": "python",
   "pygments_lexer": "ipython3",
   "version": "3.12.4"
  }
 },
 "nbformat": 4,
 "nbformat_minor": 5
}
